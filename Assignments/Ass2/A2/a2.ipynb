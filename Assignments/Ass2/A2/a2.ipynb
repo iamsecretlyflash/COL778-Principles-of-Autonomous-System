{
 "cells": [
  {
   "cell_type": "code",
   "execution_count": 84,
   "metadata": {},
   "outputs": [],
   "source": [
    "import numpy as np\n",
    "import time\n",
    "from collections import defaultdict"
   ]
  },
  {
   "cell_type": "code",
   "execution_count": 85,
   "metadata": {},
   "outputs": [],
   "source": [
    "living_reward = 0\n",
    "hole_reward = 0\n",
    "goal_reward = 1\n",
    "p = 0.8\n",
    "move_list = [0,1,2,3]\n",
    "# 0 - up , 1 - down , 2 - left , 3 - right"
   ]
  },
  {
   "cell_type": "code",
   "execution_count": 108,
   "metadata": {},
   "outputs": [],
   "source": [
    "with open('large_map.csv', 'r') as f:\n",
    "    data = f.readlines()\n",
    "for i in range(len(data)):\n",
    "    data[i] = data[i].strip().split(',')\n",
    "    # data[i] = [int(x) for x in data[i]]"
   ]
  },
  {
   "cell_type": "code",
   "execution_count": 109,
   "metadata": {},
   "outputs": [],
   "source": [
    "state_list = [(i, j) for i in range(len(data)) for j in range(len(data[0]))]\n",
    "map_left_x = state_list[0][0]\n",
    "map_right_x = state_list[-1][0]\n",
    "map_top_y = state_list[0][1]\n",
    "map_bottom_y = state_list[-1][1]"
   ]
  },
  {
   "cell_type": "code",
   "execution_count": 110,
   "metadata": {},
   "outputs": [],
   "source": [
    "def check_legal(current_pos, move):\n",
    "    if move == 0:\n",
    "        new_pos = (current_pos[0], current_pos[1]-1)\n",
    "    elif move == 1:\n",
    "        new_pos = (current_pos[0], current_pos[1]+1)\n",
    "    elif move == 2:\n",
    "        new_pos = (current_pos[0]-1, current_pos[1])\n",
    "    elif move == 3:\n",
    "        new_pos = (current_pos[0]+1, current_pos[1])\n",
    "    if new_pos[0] < map_left_x or new_pos[0] > map_right_x:\n",
    "        return False\n",
    "    if new_pos[1] < map_top_y or new_pos[1] > map_bottom_y:\n",
    "        return False\n",
    "    return True\n",
    "\n",
    "def update_pos(current_pos, move):\n",
    "    if move == 0:\n",
    "        new_pos = (current_pos[0], current_pos[1]-1)\n",
    "    elif move == 1:\n",
    "        new_pos = (current_pos[0], current_pos[1]+1)\n",
    "    elif move == 2:\n",
    "        new_pos = (current_pos[0]-1, current_pos[1])\n",
    "    elif move == 3:\n",
    "        new_pos = (current_pos[0]+1, current_pos[1])\n",
    "    return new_pos"
   ]
  },
  {
   "cell_type": "code",
   "execution_count": 125,
   "metadata": {},
   "outputs": [],
   "source": [
    "# defining the transition map\n",
    "def construct_map(data, living_reward = 0, hole_reward = 0, goal_reward = 1, p = 0.8, move_list = [0,1,2,3]):\n",
    "    transition_map = defaultdict(lambda: defaultdict(lambda: defaultdict(lambda : 0)))\n",
    "    reward_matrix = np.zeros((len(data), len(data[0])))\n",
    "    for i in range(len(data)):\n",
    "        for j in range(len(data[0])):\n",
    "            if data[i][j] == 'H':\n",
    "                reward_matrix[i][j] = hole_reward\n",
    "            elif data[i][j] == 'G':\n",
    "                reward_matrix[i][j] = goal_reward\n",
    "            elif data[i][j] == 'S':\n",
    "                reward_matrix[i][j] = living_reward\n",
    "                start_state = (i, j)\n",
    "            else:\n",
    "                reward_matrix[i][j] = living_reward\n",
    "            # the transition map is a S x A x S map\n",
    "            # S is the number of states\n",
    "            # A is the number of actions\n",
    "            # p probability that desired action occurs otherwise p/3 probability that any of the other actions occur\n",
    "            # if the action is not possible, then the state remains the same\n",
    "            legal_list = np.zeros(len(move_list))\n",
    "            for ind,move in enumerate(move_list):\n",
    "                if check_legal((i,j), move):\n",
    "                    legal_list[ind] = 1\n",
    "            for ind,move in enumerate(move_list):\n",
    "                if legal_list[ind] == 1:\n",
    "                    transition_map[(i,j)][move][update_pos((i,j), move)] = p\n",
    "                    for ind2,move2 in (enumerate(move_list)):\n",
    "                        if ind2 != ind:\n",
    "                            if legal_list[ind2] == 1:\n",
    "                                transition_map[(i,j)][move][update_pos((i,j), move2)] += (1-p)/(len(move_list)-1)\n",
    "                            else:\n",
    "                                transition_map[(i,j)][move][(i,j)] += (1-p)/(len(move_list)-1)\n",
    "\n",
    "                else :\n",
    "                    transition_map[(i,j)][move][(i,j)] = p\n",
    "                    for ind2,move2 in (enumerate(move_list)):\n",
    "                        if ind2 != ind:\n",
    "                            if legal_list[ind2] == 1:\n",
    "                                transition_map[(i,j)][move][update_pos((i,j), move2)] += (1-p)/(len(move_list)-1)\n",
    "                            else:\n",
    "                                transition_map[(i,j)][move][(i,j)] += (1-p)/(len(move_list)-1)\n",
    "    return transition_map, reward_matrix, start_state\n",
    "\n",
    "def convert_to_matrix(state_list, action_list, transition_map):\n",
    "    matrix = np.zeros((len(state_list), len(action_list), len(state_list)))\n",
    "    dict_index_map = {state:i for i,state in enumerate(state_list)}\n",
    "    for i in range(len(state_list)):\n",
    "        dict_index_map[state_list[i]] = i\n",
    "        for j in range(len(action_list)):\n",
    "            for k in transition_map[state_list[i]][action_list[j]].keys():\n",
    "                matrix[i][j][dict_index_map[k]] = transition_map[state_list[i]][action_list[j]][k]\n",
    "    return matrix, dict_index_map\n",
    "                "
   ]
  },
  {
   "cell_type": "code",
   "execution_count": 126,
   "metadata": {},
   "outputs": [],
   "source": [
    "transition_map, reward_matrix,start = construct_map(data, living_reward, hole_reward, goal_reward, p, move_list)"
   ]
  },
  {
   "cell_type": "code",
   "execution_count": 127,
   "metadata": {},
   "outputs": [],
   "source": [
    "mat_map, dict_ind_map = convert_to_matrix(state_list, move_list, transition_map)"
   ]
  },
  {
   "cell_type": "code",
   "execution_count": 115,
   "metadata": {},
   "outputs": [],
   "source": [
    "dict_ind_inverse = {v: k for k, v in dict_ind_map.items()}"
   ]
  },
  {
   "cell_type": "code",
   "execution_count": 136,
   "metadata": {},
   "outputs": [
    {
     "data": {
      "text/plain": [
       "array([0.13333333, 0.8       , 0.06666667])"
      ]
     },
     "execution_count": 136,
     "metadata": {},
     "output_type": "execute_result"
    }
   ],
   "source": [
    "mat_map[0][1][np.where(mat_map[0][1] != 0)[0]]"
   ]
  },
  {
   "cell_type": "code",
   "execution_count": null,
   "metadata": {},
   "outputs": [],
   "source": [
    "R_expected = np.zeros(len(data)*len(data[0]))\n",
    "for i in range(len(data)):\n",
    "    for j in range(len(data[0])):\n",
    "        for \n",
    "        R_expected[i*len(data[0])+j] = reward_matrix[i][j]"
   ]
  }
 ],
 "metadata": {
  "kernelspec": {
   "display_name": "Python 3",
   "language": "python",
   "name": "python3"
  },
  "language_info": {
   "codemirror_mode": {
    "name": "ipython",
    "version": 3
   },
   "file_extension": ".py",
   "mimetype": "text/x-python",
   "name": "python",
   "nbconvert_exporter": "python",
   "pygments_lexer": "ipython3",
   "version": "3.10.0"
  }
 },
 "nbformat": 4,
 "nbformat_minor": 2
}
