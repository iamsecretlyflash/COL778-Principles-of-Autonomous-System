{
 "cells": [
  {
   "cell_type": "code",
   "execution_count": 2,
   "metadata": {},
   "outputs": [],
   "source": [
    "import numpy as np\n",
    "import time"
   ]
  },
  {
   "cell_type": "code",
   "execution_count": 10,
   "metadata": {},
   "outputs": [],
   "source": [
    "# Markov Decision Process with two states and two actions\n",
    "# T : S x A x S -> [0,1]\n",
    "# R : S x A x S -> R\n",
    "T = np.array([[[0.1, 0.9], [0.2, 0.8]], [[0.3, 0.7], [0.4, 0.6]]])\n",
    "R = np.array([[[1, 2], [3, 4]], [[5, 6], [7, 8]]])\n",
    "S = {0, 1}\n",
    "A = {0, 1}\n",
    "policy = {0: 1, 1: 0}\n",
    "gamma = 0.1\n"
   ]
  },
  {
   "cell_type": "code",
   "execution_count": 42,
   "metadata": {},
   "outputs": [],
   "source": [
    "def evaluate_policy(policy, S,T, R, gamma, max_iter=1000, tol=1e-3, method = 'iter', print_iters = False):\n",
    "    T_policy = np.stack([T[s,policy[s]] for s in (S)])\n",
    "    R_policy = np.array([R[s,policy[s]] for s in (S)])\n",
    "    R_exp_policy = np.sum(np.multiply(R_policy, T_policy),axis=1)\n",
    "    print(f'\\n{R_exp_policy/(1-gamma)}\\n')  \n",
    "    # if method == 'fp' or max_iter * (len(S)**2) > len(S)**2.4:\n",
    "    #     return np.linalg.inv(np.eye(len(S)) - gamma * T_policy).dot(R_exp_policy)\n",
    "\n",
    "    #iterative\n",
    "    V_policy = np.zeros(len(S))\n",
    "    iter = 0\n",
    "    while iter < max_iter:\n",
    "        V_policy_new = R_exp_policy + gamma * T_policy.dot(V_policy)\n",
    "        if np.linalg.norm(V_policy_new - V_policy) < tol:\n",
    "            break\n",
    "        V_policy = V_policy_new\n",
    "        iter += 1\n",
    "    \n",
    "    if print_iters:\n",
    "        print('Number of iterations: ', iter)\n",
    "        \n",
    "    return V_policy\n"
   ]
  },
  {
   "cell_type": "code",
   "execution_count": 43,
   "metadata": {},
   "outputs": [],
   "source": [
    "def policy_iteration(S, A, R, T, gamma, max_iter=1000, tol=1e-3, print_iters = False):\n",
    "    policy = np.random.randint(0,len(S),len(S), dtype=int)\n",
    "    iter = 0\n",
    "    t = time.time()\n",
    "    V_policy = evaluate_policy(policy, S, T, R, gamma, method = 'fp', print_iters = False)\n",
    "    while iter < max_iter:\n",
    "        for s in S:\n",
    "            policy[s] = np.argmax([ np.sum([T[s,a,s1] * (R[s,a,s1] + gamma*V_policy[s1]) for s1 in S]) for a in A])\n",
    "        iter += 1\n",
    "        V_policy_new = evaluate_policy(policy, S, T, R, gamma, method = 'fp', print_iters = False)\n",
    "        if np.linalg.norm(V_policy_new - V_policy) < tol:\n",
    "            break\n",
    "        V_policy = V_policy_new\n",
    "    if print_iters:\n",
    "        print(f'Time elapsed: {time.time() - t} seconds')\n",
    "        print('Number of iterations: ', iter)\n",
    "        print('Policy Value: ', V_policy)\n",
    "    return policy"
   ]
  },
  {
   "cell_type": "code",
   "execution_count": 44,
   "metadata": {},
   "outputs": [],
   "source": [
    "def value_iteration(S, A, R, T, gamma, tol = 1e-4, max_iters = 10000, print_iters = False):\n",
    "    value = np.zeros(len(S))\n",
    "    iter = 0\n",
    "    delta = -np.inf\n",
    "    t = time.time()\n",
    "    while True and iter < max_iters:\n",
    "        val_old = value\n",
    "        delta = 0\n",
    "        for s in S:\n",
    "            val_old = value[s]\n",
    "            value[s] = np.max([np.sum([T[s,a,s1] * (R[s,a,s1] + gamma*value[s1]) for s1 in S]) for a in A])\n",
    "            delta = max(delta, np.abs(val_old - value[s]))\n",
    "        if delta < tol * (1 - gamma) / gamma:\n",
    "            break\n",
    "        iter += 1\n",
    "    if print_iters:\n",
    "        print(f'Time taken: {time.time() - t} seconds')\n",
    "        print('Number of iterations: ', iter)\n",
    "        print('Value: ', value)\n",
    "        print('Delta: ', delta)\n",
    "    policy = np.zeros(len(S), dtype=int)\n",
    "    for s in S:\n",
    "        policy[s] = np.argmax([np.sum([T[s,a,s1] * (R[s,a,s1] + gamma*value[s1]) for s1 in S]) for a in A])\n",
    "    \n",
    "    return policy, value\n",
    "    "
   ]
  },
  {
   "cell_type": "code",
   "execution_count": 45,
   "metadata": {},
   "outputs": [
    {
     "name": "stdout",
     "output_type": "stream",
     "text": [
      "Time taken: 0.0003192424774169922 seconds\n",
      "Number of iterations:  2\n",
      "Value:  [4.54952051 8.2766788 ]\n",
      "Delta:  0.05336051200000025\n"
     ]
    },
    {
     "data": {
      "text/plain": [
       "(array([1, 1]), array([4.54952051, 8.2766788 ]))"
      ]
     },
     "execution_count": 45,
     "metadata": {},
     "output_type": "execute_result"
    }
   ],
   "source": [
    "value_iteration(S, A, R, T, gamma, print_iters = True, tol = 1e-2,max_iters = 100000)"
   ]
  },
  {
   "cell_type": "code",
   "execution_count": 47,
   "metadata": {},
   "outputs": [
    {
     "name": "stdout",
     "output_type": "stream",
     "text": [
      "\n",
      "[4.22222222 6.33333333]\n",
      "\n",
      "\n",
      "[4.22222222 8.44444444]\n",
      "\n",
      "\n",
      "[4.22222222 8.44444444]\n",
      "\n",
      "Time elapsed: 0.002187967300415039 seconds\n",
      "Number of iterations:  2\n",
      "Policy Value:  [4.5526736 8.2781632]\n"
     ]
    },
    {
     "data": {
      "text/plain": [
       "array([1, 1])"
      ]
     },
     "execution_count": 47,
     "metadata": {},
     "output_type": "execute_result"
    }
   ],
   "source": [
    "policy_iteration(S, A, R, T, gamma, max_iter=1000, tol=1e-8, print_iters = True)"
   ]
  },
  {
   "cell_type": "code",
   "execution_count": 48,
   "metadata": {},
   "outputs": [
    {
     "name": "stdout",
     "output_type": "stream",
     "text": [
      "\n",
      "[4.22222222 8.44444444]\n",
      "\n",
      "[4.5526736 8.2781632]\n",
      "0.0029060840606689453\n",
      "\n",
      "[4.22222222 8.44444444]\n",
      "\n",
      "[4.5526736 8.2781632]\n",
      "0.0008909702301025391\n"
     ]
    }
   ],
   "source": [
    "t = time.time()\n",
    "print(evaluate_policy(policy, S, T, R, gamma, max_iter = 10))\n",
    "print(time.time() - t)\n",
    "t = time.time()\n",
    "print(evaluate_policy(policy, S, T, R, gamma))\n",
    "print(time.time() - t)"
   ]
  },
  {
   "cell_type": "code",
   "execution_count": 41,
   "metadata": {},
   "outputs": [
    {
     "name": "stdout",
     "output_type": "stream",
     "text": [
      "\n",
      "[2.11111111 6.33333333]\n",
      "\n",
      "[2.48366013 6.20915033]\n",
      "\n",
      "[2.11111111 8.44444444]\n",
      "\n",
      "[2.66450917 8.19848975]\n",
      "\n",
      "[4.22222222 6.33333333]\n",
      "\n",
      "[4.38943894 6.27062706]\n",
      "\n",
      "[4.22222222 8.44444444]\n",
      "\n",
      "[4.55337691 8.2788671 ]\n"
     ]
    }
   ],
   "source": [
    "policy = {0: 0, 1: 0}\n",
    "print(evaluate_policy(policy, S, T, R, gamma, max_iter = 10, print_iters = True))\n",
    "policy = {0: 0, 1: 1}\n",
    "print(evaluate_policy(policy, S, T, R, gamma, max_iter = 10))\n",
    "policy = {0: 1, 1: 0}\n",
    "print(evaluate_policy(policy, S, T, R, gamma, max_iter = 10))\n",
    "policy = {0: 1, 1: 1}\n",
    "print(evaluate_policy(policy, S, T, R, gamma, max_iter = 10))"
   ]
  },
  {
   "cell_type": "code",
   "execution_count": null,
   "metadata": {},
   "outputs": [],
   "source": []
  }
 ],
 "metadata": {
  "kernelspec": {
   "display_name": "Python 3",
   "language": "python",
   "name": "python3"
  },
  "language_info": {
   "codemirror_mode": {
    "name": "ipython",
    "version": 3
   },
   "file_extension": ".py",
   "mimetype": "text/x-python",
   "name": "python",
   "nbconvert_exporter": "python",
   "pygments_lexer": "ipython3",
   "version": "3.10.0"
  }
 },
 "nbformat": 4,
 "nbformat_minor": 2
}
