{
 "cells": [
  {
   "cell_type": "code",
   "execution_count": 1,
   "metadata": {},
   "outputs": [],
   "source": [
    "import numpy as np\n",
    "import matplotlib.pyplot as plt"
   ]
  },
  {
   "cell_type": "code",
   "execution_count": 80,
   "metadata": {},
   "outputs": [],
   "source": [
    "# Agent class for multi-armed bandit problem (bernoulli bandit)\n",
    "\n",
    "class Bandit:\n",
    "\n",
    "    def __init__(self, mean, var, id = None):\n",
    "        self.mean = mean\n",
    "        self.var = var\n",
    "        self.id = None\n",
    "    \n",
    "    def get_internal_state(self):\n",
    "        return self.mean, self.var\n",
    "\n",
    "    def get_id(self):\n",
    "        return self.id\n",
    "    \n",
    "class MultiArmBandits:\n",
    "\n",
    "    def __init__(self, num_bandits, dist_mean = None, dist_var = None):\n",
    "        self.num_bandits = num_bandits\n",
    "        self.bandits = []\n",
    "        self.dist_mean = dist_mean\n",
    "        self.dist_var = dist_var\n",
    "        self.sampler = np.random.default_rng()\n",
    "        self.init_bandits()\n",
    "\n",
    "    def __len__(self):\n",
    "        return self.num_bandits\n",
    "    \n",
    "    def init_bandits(self):\n",
    "        if self.dist_mean is None:\n",
    "            self.dist_mean = np.random.rand(self.num_bandits)\n",
    "            self.dist_var = np.random.rand(self.num_bandits)\n",
    "        for i in range(self.num_bandits):\n",
    "            self.bandits.append(Bandit(self.dist_mean[i],self.dist_var[i], i ))\n",
    "    \n",
    "    def playBandit(self, bandit_id):\n",
    "        bandit = self.bandits[bandit_id]\n",
    "        return self.sampler.normal(bandit.get_internal_state()[0],bandit.get_internal_state()[1])\n",
    "    \n",
    "class EpsGreedySolver:\n",
    "\n",
    "    def __init__(self, bandits, epsilon = 0.1):\n",
    "        self.bandits = bandits\n",
    "        self.epsilon = epsilon\n",
    "        self.num_bandits = len(bandits)\n",
    "        self.means = np.zeros(self.num_bandits)\n",
    "        self.vars = np.zeros(self.num_bandits)\n",
    "        self.n = np.zeros(self.num_bandits)\n",
    "        self.rewards = []\n",
    "    \n",
    "    def update(self, bandit_id, reward):\n",
    "        self.n[bandit_id] += 1\n",
    "        self.means[bandit_id] += 1/self.n[bandit_id]*(reward - self.means[bandit_id])\n",
    "        if self.n[bandit_id] > 1:\n",
    "            self.vars[bandit_id] = ((self.n[bandit_id] - 2)/(self.n[bandit_id] - 1))*self.vars[bandit_id] + (1/self.n[bandit_id])*(reward - self.means[bandit_id])**2\n",
    "    \n",
    "    def choose_bandit(self):\n",
    "        if np.random.rand() < self.epsilon:\n",
    "            return np.random.randint(self.num_bandits)\n",
    "        else:\n",
    "            return np.argmax(self.means)\n",
    "    \n",
    "    def learn(self, num_steps = 1000):\n",
    "        for i in range(num_steps):\n",
    "            bandit_id = self.choose_bandit()\n",
    "            reward = self.bandits.playBandit(bandit_id)\n",
    "            self.rewards.append(reward)\n",
    "            self.update(bandit_id, reward)\n",
    "\n",
    "class UCBSolver:\n",
    "\n",
    "    def __init__(self, bandits, c = 2):\n",
    "        self.bandits = bandits\n",
    "        self.c = c\n",
    "        self.num_bandits = len(bandits)\n",
    "        self.means = np.zeros(self.num_bandits)\n",
    "        self.vars = np.zeros(self.num_bandits)\n",
    "        self.n = np.zeros(self.num_bandits)\n",
    "        self.rewards = []\n",
    "    \n",
    "    def update(self, bandit_id, reward):\n",
    "        self.n[bandit_id] += 1\n",
    "        self.means[bandit_id] += 1/self.n[bandit_id]*(reward - self.means[bandit_id])\n",
    "        if self.n[bandit_id] > 1:\n",
    "            self.vars[bandit_id] = ((self.n[bandit_id] - 2)/(self.n[bandit_id] - 1))*self.vars[bandit_id] + (1/self.n[bandit_id])*(reward - self.means[bandit_id])**2\n",
    "    \n",
    "    def choose_bandit(self):\n",
    "        return np.argmax(self.means + self.c*np.sqrt(np.log(np.sum(self.n))/self.n))\n",
    "    \n",
    "    def learn(self, num_steps = 1000):\n",
    "        for i in range(num_steps):\n",
    "            bandit_id = self.choose_bandit()\n",
    "            reward = self.bandits.playBandit(bandit_id)\n",
    "            self.rewards.append(reward)\n",
    "            self.update(bandit_id, reward)"
   ]
  },
  {
   "cell_type": "code",
   "execution_count": 81,
   "metadata": {},
   "outputs": [],
   "source": [
    "bandit = MultiArmBandits(10)\n",
    "solver = EpsGreedySolver(bandit, 0.4)\n",
    "ucbsolver = UCBSolver(bandit, 0.01)"
   ]
  },
  {
   "cell_type": "code",
   "execution_count": 84,
   "metadata": {},
   "outputs": [],
   "source": [
    "solver.learn(1000000)"
   ]
  },
  {
   "cell_type": "code",
   "execution_count": 89,
   "metadata": {},
   "outputs": [],
   "source": [
    "ucbsolver.c = 10"
   ]
  },
  {
   "cell_type": "code",
   "execution_count": 91,
   "metadata": {},
   "outputs": [],
   "source": [
    "ucbsolver.learn(1000000)"
   ]
  },
  {
   "cell_type": "code",
   "execution_count": 85,
   "metadata": {},
   "outputs": [
    {
     "data": {
      "text/plain": [
       "(array([0.32320956, 0.80414552, 0.94916589, 0.63893062, 0.39152017,\n",
       "        0.09533283, 0.37054841, 0.35218853, 0.80888821, 0.05004385]),\n",
       " array([3.01266950e-01, 3.69713100e-01, 7.58962204e-02, 4.90765746e-01,\n",
       "        1.10889008e-04, 3.34305506e-01, 6.33028401e-01, 3.31227720e-02,\n",
       "        3.29819497e-01, 4.37021155e-01]))"
      ]
     },
     "execution_count": 85,
     "metadata": {},
     "output_type": "execute_result"
    }
   ],
   "source": [
    "solver.means, solver.vars"
   ]
  },
  {
   "cell_type": "code",
   "execution_count": 92,
   "metadata": {},
   "outputs": [
    {
     "data": {
      "text/plain": [
       "(array([0.32466313, 0.79673052, 0.94935308, 0.64454419, 0.39147963,\n",
       "        0.08919555, 0.38311382, 0.34944024, 0.8138008 , 0.04861066]),\n",
       " array([2.96455658e-01, 3.71593674e-01, 7.58984052e-02, 4.95965293e-01,\n",
       "        1.12064743e-04, 3.21949212e-01, 6.42066803e-01, 3.26319676e-02,\n",
       "        3.29620488e-01, 4.33593819e-01]))"
      ]
     },
     "execution_count": 92,
     "metadata": {},
     "output_type": "execute_result"
    }
   ],
   "source": [
    "ucbsolver.means, ucbsolver.vars"
   ]
  },
  {
   "cell_type": "code",
   "execution_count": 76,
   "metadata": {},
   "outputs": [
    {
     "data": {
      "text/plain": [
       "0.8994300254860429"
      ]
     },
     "execution_count": 76,
     "metadata": {},
     "output_type": "execute_result"
    }
   ],
   "source": [
    "UCBSolver.bandits.bandits[0].var"
   ]
  },
  {
   "cell_type": "code",
   "execution_count": 55,
   "metadata": {},
   "outputs": [
    {
     "data": {
      "text/plain": [
       "(0.9569209378738996, 0.08662555733430755)"
      ]
     },
     "execution_count": 55,
     "metadata": {},
     "output_type": "execute_result"
    }
   ],
   "source": [
    "solver.bandits.bandits[0].get_internal_state()"
   ]
  },
  {
   "cell_type": "code",
   "execution_count": null,
   "metadata": {},
   "outputs": [],
   "source": []
  }
 ],
 "metadata": {
  "kernelspec": {
   "display_name": "rl_env",
   "language": "python",
   "name": "python3"
  },
  "language_info": {
   "codemirror_mode": {
    "name": "ipython",
    "version": 3
   },
   "file_extension": ".py",
   "mimetype": "text/x-python",
   "name": "python",
   "nbconvert_exporter": "python",
   "pygments_lexer": "ipython3",
   "version": "3.9.18"
  }
 },
 "nbformat": 4,
 "nbformat_minor": 2
}
